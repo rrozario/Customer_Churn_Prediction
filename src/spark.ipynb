{
 "cells": [
  {
   "cell_type": "code",
   "execution_count": 1,
   "metadata": {
    "colab": {},
    "colab_type": "code",
    "id": "k5fyutyyuhqf"
   },
   "outputs": [],
   "source": [
    "from pyspark.ml import Pipeline\n",
    "from pyspark.ml.classification import RandomForestClassifier\n",
    "from pyspark.ml.feature import IndexToString, StringIndexer, VectorIndexer\n",
    "from pyspark.ml.evaluation import MulticlassClassificationEvaluator\n"
   ]
  },
  {
   "cell_type": "code",
   "execution_count": 2,
   "metadata": {
    "colab": {
     "base_uri": "https://localhost:8080/",
     "height": 258
    },
    "colab_type": "code",
    "id": "rC-l_WL6u3bz",
    "outputId": "b709d775-7243-457e-8d9e-528c12d2d5be"
   },
   "outputs": [
    {
     "name": "stdout",
     "output_type": "stream",
     "text": [
      "Collecting pyspark\n",
      "\u001b[?25l  Downloading https://files.pythonhosted.org/packages/87/21/f05c186f4ddb01d15d0ddc36ef4b7e3cedbeb6412274a41f26b55a650ee5/pyspark-2.4.4.tar.gz (215.7MB)\n",
      "\u001b[K     |████████████████████████████████| 215.7MB 51kB/s \n",
      "\u001b[?25hCollecting py4j==0.10.7\n",
      "\u001b[?25l  Downloading https://files.pythonhosted.org/packages/e3/53/c737818eb9a7dc32a7cd4f1396e787bd94200c3997c72c1dbe028587bd76/py4j-0.10.7-py2.py3-none-any.whl (197kB)\n",
      "\u001b[K     |████████████████████████████████| 204kB 42.4MB/s \n",
      "\u001b[?25hBuilding wheels for collected packages: pyspark\n",
      "  Building wheel for pyspark (setup.py) ... \u001b[?25l\u001b[?25hdone\n",
      "  Created wheel for pyspark: filename=pyspark-2.4.4-py2.py3-none-any.whl size=216130387 sha256=4d5b86b4c6ec0b4cf2476236f65e9f9c44f88d2d8201cf9cf6d39fc12a15a936\n",
      "  Stored in directory: /root/.cache/pip/wheels/ab/09/4d/0d184230058e654eb1b04467dbc1292f00eaa186544604b471\n",
      "Successfully built pyspark\n",
      "Installing collected packages: py4j, pyspark\n",
      "Successfully installed py4j-0.10.7 pyspark-2.4.4\n"
     ]
    }
   ],
   "source": [
    "!pip install pyspark"
   ]
  },
  {
   "cell_type": "code",
   "execution_count": 0,
   "metadata": {
    "colab": {},
    "colab_type": "code",
    "id": "I69mW8CTvK7K"
   },
   "outputs": [],
   "source": [
    "from pyspark.context import SparkContext\n",
    "from pyspark.sql.session import SparkSession\n",
    "sc = SparkContext('local')\n",
    "spark = SparkSession(sc)"
   ]
  },
  {
   "cell_type": "code",
   "execution_count": 2,
   "metadata": {
    "colab": {},
    "colab_type": "code",
    "id": "E0CMIGtcvWO9"
   },
   "outputs": [],
   "source": [
    "data = spark.read.format(\"csv\").load(\"final.csv\",header=True,inferschema=True)"
   ]
  },
  {
   "cell_type": "code",
   "execution_count": 3,
   "metadata": {
    "colab": {
     "base_uri": "https://localhost:8080/",
     "height": 442
    },
    "colab_type": "code",
    "id": "4gtBV_tTvZAX",
    "outputId": "59546217-c16e-4ee2-af33-9abc78e5434e"
   },
   "outputs": [
    {
     "name": "stdout",
     "output_type": "stream",
     "text": [
      "root\n",
      " |-- msno: string (nullable = true)\n",
      " |-- is_churn: integer (nullable = true)\n",
      " |-- city: double (nullable = true)\n",
      " |-- bd: double (nullable = true)\n",
      " |-- gender: integer (nullable = true)\n",
      " |-- registered_via: double (nullable = true)\n",
      " |-- registration_init_time: double (nullable = true)\n",
      " |-- payment_method_id: integer (nullable = true)\n",
      " |-- payment_plan_days: integer (nullable = true)\n",
      " |-- plan_list_price: integer (nullable = true)\n",
      " |-- actual_amount_paid: integer (nullable = true)\n",
      " |-- is_auto_renew: integer (nullable = true)\n",
      " |-- transaction_date: integer (nullable = true)\n",
      " |-- membership_expire_date: integer (nullable = true)\n",
      " |-- is_cancel: integer (nullable = true)\n",
      " |-- date: integer (nullable = true)\n",
      " |-- num_25: integer (nullable = true)\n",
      " |-- num_50: integer (nullable = true)\n",
      " |-- num_75: integer (nullable = true)\n",
      " |-- num_985: integer (nullable = true)\n",
      " |-- num_100: integer (nullable = true)\n",
      " |-- num_unq: integer (nullable = true)\n",
      " |-- total_secs: double (nullable = true)\n",
      "\n"
     ]
    }
   ],
   "source": [
    "data.printSchema()"
   ]
  },
  {
   "cell_type": "code",
   "execution_count": 7,
   "metadata": {
    "colab": {},
    "colab_type": "code",
    "id": "QKpwJcqpxeh6"
   },
   "outputs": [],
   "source": [
    "columns=['total_secs','bd','num_unq','num_100','num_25']"
   ]
  },
  {
   "cell_type": "code",
   "execution_count": 4,
   "metadata": {
    "colab": {},
    "colab_type": "code",
    "id": "VvOzESkMxrNM"
   },
   "outputs": [],
   "source": [
    "data2=data.select(['total_secs','bd','num_unq','num_100','num_25','is_churn'])"
   ]
  },
  {
   "cell_type": "code",
   "execution_count": 5,
   "metadata": {
    "colab": {
     "base_uri": "https://localhost:8080/",
     "height": 153
    },
    "colab_type": "code",
    "id": "gBTlenrZych5",
    "outputId": "c03ff1e0-1e8e-41b8-d022-82869ed8836e"
   },
   "outputs": [
    {
     "name": "stdout",
     "output_type": "stream",
     "text": [
      "root\n",
      " |-- total_secs: double (nullable = true)\n",
      " |-- bd: double (nullable = true)\n",
      " |-- num_unq: integer (nullable = true)\n",
      " |-- num_100: integer (nullable = true)\n",
      " |-- num_25: integer (nullable = true)\n",
      " |-- is_churn: integer (nullable = true)\n",
      "\n"
     ]
    }
   ],
   "source": [
    "data2.printSchema()"
   ]
  },
  {
   "cell_type": "code",
   "execution_count": 8,
   "metadata": {
    "colab": {},
    "colab_type": "code",
    "id": "Uvl-VPNC1TmM"
   },
   "outputs": [],
   "source": [
    "from pyspark.ml.feature import VectorAssembler\n",
    "\n",
    "assembler = VectorAssembler(inputCols=columns,outputCol=\"features\")\n",
    "\n",
    "output = assembler.transform(data2)"
   ]
  },
  {
   "cell_type": "code",
   "execution_count": 9,
   "metadata": {
    "colab": {},
    "colab_type": "code",
    "id": "MAXA-O611cVI",
    "scrolled": true
   },
   "outputs": [
    {
     "name": "stdout",
     "output_type": "stream",
     "text": [
      "+----------+----+-------+-------+------+--------+--------------------+\n",
      "|total_secs|  bd|num_unq|num_100|num_25|is_churn|            features|\n",
      "+----------+----+-------+-------+------+--------+--------------------+\n",
      "|   8490.88|26.0|     41|     28|     6|       1|[8490.88,26.0,41....|\n",
      "|   8490.88|26.0|     41|     28|     6|       1|[8490.88,26.0,41....|\n",
      "|   8490.88|26.0|     41|     28|     6|       1|[8490.88,26.0,41....|\n",
      "|   8490.88|26.0|     41|     28|     6|       1|[8490.88,26.0,41....|\n",
      "|   8490.88|26.0|     41|     28|     6|       1|[8490.88,26.0,41....|\n",
      "|   8490.88|26.0|     41|     28|     6|       1|[8490.88,26.0,41....|\n",
      "|   8490.88|26.0|     41|     28|     6|       1|[8490.88,26.0,41....|\n",
      "|   8490.88|26.0|     41|     28|     6|       1|[8490.88,26.0,41....|\n",
      "|   8490.88|26.0|     41|     28|     6|       1|[8490.88,26.0,41....|\n",
      "|   8490.88|26.0|     41|     28|     6|       1|[8490.88,26.0,41....|\n",
      "|   8490.88|26.0|     41|     28|     6|       1|[8490.88,26.0,41....|\n",
      "|   8490.88|26.0|     41|     28|     6|       1|[8490.88,26.0,41....|\n",
      "|   8490.88|26.0|     41|     28|     6|       1|[8490.88,26.0,41....|\n",
      "|   8490.88|26.0|     41|     28|     6|       1|[8490.88,26.0,41....|\n",
      "|   8490.88|26.0|     41|     28|     6|       1|[8490.88,26.0,41....|\n",
      "|   8490.88|26.0|     41|     28|     6|       1|[8490.88,26.0,41....|\n",
      "|   8490.88|26.0|     41|     28|     6|       1|[8490.88,26.0,41....|\n",
      "|   8490.88|26.0|     41|     28|     6|       1|[8490.88,26.0,41....|\n",
      "|   8490.88|26.0|     41|     28|     6|       1|[8490.88,26.0,41....|\n",
      "|   8490.88|26.0|     41|     28|     6|       1|[8490.88,26.0,41....|\n",
      "+----------+----+-------+-------+------+--------+--------------------+\n",
      "only showing top 20 rows\n",
      "\n"
     ]
    }
   ],
   "source": [
    "output.show()"
   ]
  },
  {
   "cell_type": "code",
   "execution_count": 10,
   "metadata": {},
   "outputs": [],
   "source": [
    "labelIndexer = StringIndexer(inputCol=\"is_churn\", outputCol=\"indexedLabel\").fit(output)"
   ]
  },
  {
   "cell_type": "code",
   "execution_count": 12,
   "metadata": {},
   "outputs": [],
   "source": [
    "featureIndexer =VectorIndexer(inputCol=\"features\", outputCol=\"indexedFeatures\", maxCategories=4).fit(output)"
   ]
  },
  {
   "cell_type": "code",
   "execution_count": 13,
   "metadata": {
    "colab": {},
    "colab_type": "code",
    "id": "Y5Yhvlxi1k03"
   },
   "outputs": [],
   "source": [
    "(trainingData, testData) = output.randomSplit([0.9, 0.1])"
   ]
  },
  {
   "cell_type": "code",
   "execution_count": 14,
   "metadata": {
    "colab": {},
    "colab_type": "code",
    "id": "TMg6zWq10ZLu"
   },
   "outputs": [],
   "source": [
    "rf = RandomForestClassifier(labelCol=\"indexedLabel\", featuresCol=\"indexedFeatures\", numTrees=10)\n",
    "\n",
    "# Convert indexed labels back to original labels.\n",
    "labelConverter = IndexToString(inputCol=\"prediction\", outputCol=\"predictedLabel\",labels=labelIndexer.labels)\n",
    "\n",
    "# Chain indexers and forest in a Pipeline\n",
    "pipeline = Pipeline(stages=[labelIndexer, featureIndexer, rf, labelConverter])"
   ]
  },
  {
   "cell_type": "code",
   "execution_count": 15,
   "metadata": {
    "colab": {
     "base_uri": "https://localhost:8080/",
     "height": 1000
    },
    "colab_type": "code",
    "id": "-_7GjhIx1vYo",
    "outputId": "23530662-58e8-4a71-9b89-8f072b1335db"
   },
   "outputs": [],
   "source": [
    "model = pipeline.fit(trainingData)\n",
    "\n",
    "\n"
   ]
  },
  {
   "cell_type": "code",
   "execution_count": 16,
   "metadata": {},
   "outputs": [],
   "source": [
    "predictions = model.transform(testData)"
   ]
  },
  {
   "cell_type": "code",
   "execution_count": 19,
   "metadata": {},
   "outputs": [
    {
     "name": "stdout",
     "output_type": "stream",
     "text": [
      "+----------+----+-------+-------+------+--------+--------------------+------------+--------------------+--------------------+--------------------+----------+--------------+\n",
      "|total_secs|  bd|num_unq|num_100|num_25|is_churn|            features|indexedLabel|     indexedFeatures|       rawPrediction|         probability|prediction|predictedLabel|\n",
      "+----------+----+-------+-------+------+--------+--------------------+------------+--------------------+--------------------+--------------------+----------+--------------+\n",
      "|     0.418|25.0|      1|      0|     1|       0|[0.418,25.0,1.0,0...|         0.0|[0.418,25.0,1.0,0...|[9.81682340926831...|[0.98168234092683...|       0.0|             0|\n",
      "|     0.418|25.0|      1|      0|     1|       0|[0.418,25.0,1.0,0...|         0.0|[0.418,25.0,1.0,0...|[9.81682340926831...|[0.98168234092683...|       0.0|             0|\n",
      "|     0.418|25.0|      1|      0|     1|       0|[0.418,25.0,1.0,0...|         0.0|[0.418,25.0,1.0,0...|[9.81682340926831...|[0.98168234092683...|       0.0|             0|\n",
      "|     1.071|39.0|      1|      0|     1|       0|[1.071,39.0,1.0,0...|         0.0|[1.071,39.0,1.0,0...|[9.89640540525180...|[0.98964054052518...|       0.0|             0|\n",
      "|     1.071|39.0|      1|      0|     1|       0|[1.071,39.0,1.0,0...|         0.0|[1.071,39.0,1.0,0...|[9.89640540525180...|[0.98964054052518...|       0.0|             0|\n",
      "+----------+----+-------+-------+------+--------+--------------------+------------+--------------------+--------------------+--------------------+----------+--------------+\n",
      "only showing top 5 rows\n",
      "\n"
     ]
    }
   ],
   "source": [
    "predictions.show(5)"
   ]
  },
  {
   "cell_type": "code",
   "execution_count": 20,
   "metadata": {},
   "outputs": [
    {
     "name": "stdout",
     "output_type": "stream",
     "text": [
      "Test Error = 0.016443\n"
     ]
    }
   ],
   "source": [
    "evaluator = MulticlassClassificationEvaluator(\n",
    "    labelCol=\"indexedLabel\", predictionCol=\"prediction\", metricName=\"accuracy\")\n",
    "accuracy = evaluator.evaluate(predictions)\n",
    "print(\"Test Error = %g\" % (1.0 - accuracy))"
   ]
  },
  {
   "cell_type": "code",
   "execution_count": 21,
   "metadata": {},
   "outputs": [
    {
     "data": {
      "text/plain": [
       "0.9835569763212803"
      ]
     },
     "execution_count": 21,
     "metadata": {},
     "output_type": "execute_result"
    }
   ],
   "source": [
    "accuracy"
   ]
  },
  {
   "cell_type": "code",
   "execution_count": 25,
   "metadata": {},
   "outputs": [],
   "source": [
    "import pickle"
   ]
  },
  {
   "cell_type": "code",
   "execution_count": 24,
   "metadata": {},
   "outputs": [],
   "source": [
    "model.save(\"mymodel.pkl\")"
   ]
  },
  {
   "cell_type": "code",
   "execution_count": null,
   "metadata": {},
   "outputs": [],
   "source": []
  },
  {
   "cell_type": "code",
   "execution_count": null,
   "metadata": {},
   "outputs": [],
   "source": [
    "model.save(\"mymodel.pkl\")"
   ]
  },
  {
   "cell_type": "code",
   "execution_count": null,
   "metadata": {},
   "outputs": [],
   "source": []
  },
  {
   "cell_type": "code",
   "execution_count": null,
   "metadata": {},
   "outputs": [],
   "source": []
  }
 ],
 "metadata": {
  "colab": {
   "collapsed_sections": [],
   "name": "spark.ipynb",
   "provenance": []
  },
  "kernelspec": {
   "display_name": "Python 3",
   "language": "python",
   "name": "python3"
  },
  "language_info": {
   "codemirror_mode": {
    "name": "ipython",
    "version": 3
   },
   "file_extension": ".py",
   "mimetype": "text/x-python",
   "name": "python",
   "nbconvert_exporter": "python",
   "pygments_lexer": "ipython3",
   "version": "3.7.4"
  }
 },
 "nbformat": 4,
 "nbformat_minor": 1
}
