{
 "cells": [
  {
   "cell_type": "code",
   "execution_count": 1,
   "metadata": {},
   "outputs": [],
   "source": [
    "#importing modules\n",
    "import pandas as pd\n",
    "import numpy as np\n",
    "import seaborn as sns\n",
    "import matplotlib.pyplot as plt\n",
    "import re\n",
    "import time\n",
    "from datetime import datetime\n",
    "from collections import Counter\n",
    "from subprocess import check_output"
   ]
  },
  {
   "cell_type": "code",
   "execution_count": 2,
   "metadata": {},
   "outputs": [
    {
     "name": "stdout",
     "output_type": "stream",
     "text": [
      "**********Shape of Data**********\n",
      "(6769473, 6)\n",
      "***********Data Types************\n",
      "msno                      object\n",
      "city                       int64\n",
      "bd                         int64\n",
      "gender                    object\n",
      "registered_via             int64\n",
      "registration_init_time     int64\n",
      "dtype: object\n"
     ]
    }
   ],
   "source": [
    "#loading data\n",
    "members = pd.read_csv(\"members_v3.csv\") \n",
    "print(\"**********Shape of Data**********\")\n",
    "print(members.shape)\n",
    "print(\"***********Data Types************\")\n",
    "print(members.dtypes)"
   ]
  },
  {
   "cell_type": "code",
   "execution_count": 3,
   "metadata": {},
   "outputs": [
    {
     "name": "stdout",
     "output_type": "stream",
     "text": [
      "**********Shape of Data**********\n",
      "(21547746, 9)\n",
      "***********Data Types************\n",
      "msno                      object\n",
      "payment_method_id          int64\n",
      "payment_plan_days          int64\n",
      "plan_list_price            int64\n",
      "actual_amount_paid         int64\n",
      "is_auto_renew              int64\n",
      "transaction_date           int64\n",
      "membership_expire_date     int64\n",
      "is_cancel                  int64\n",
      "dtype: object\n"
     ]
    }
   ],
   "source": [
    "transactions = pd.read_csv(\"transactions.csv\") \n",
    "print(\"**********Shape of Data**********\")\n",
    "print(transactions.shape)\n",
    "print(\"***********Data Types************\")\n",
    "print(transactions.dtypes)"
   ]
  },
  {
   "cell_type": "code",
   "execution_count": 4,
   "metadata": {},
   "outputs": [
    {
     "name": "stdout",
     "output_type": "stream",
     "text": [
      "**********Shape of Data**********\n",
      "(18396362, 9)\n",
      "***********Data Types************\n",
      "msno           object\n",
      "date            int64\n",
      "num_25          int64\n",
      "num_50          int64\n",
      "num_75          int64\n",
      "num_985         int64\n",
      "num_100         int64\n",
      "num_unq         int64\n",
      "total_secs    float64\n",
      "dtype: object\n"
     ]
    }
   ],
   "source": [
    "userlogs = pd.read_csv(\"user_logs_v2.csv\") \n",
    "print(\"**********Shape of Data**********\")\n",
    "print(userlogs.shape)\n",
    "print(\"***********Data Types************\")\n",
    "print(userlogs.dtypes)"
   ]
  },
  {
   "cell_type": "code",
   "execution_count": 5,
   "metadata": {},
   "outputs": [
    {
     "name": "stdout",
     "output_type": "stream",
     "text": [
      "**********Shape of Data**********\n",
      "(992931, 2)\n",
      "***********Data Types************\n",
      "msno        object\n",
      "is_churn     int64\n",
      "dtype: object\n"
     ]
    }
   ],
   "source": [
    "#loading data\n",
    "train = pd.read_csv(\"train.csv\") \n",
    "print(\"**********Shape of Data**********\")\n",
    "print(train.shape)\n",
    "print(\"***********Data Types************\")\n",
    "print(train.dtypes)"
   ]
  },
  {
   "cell_type": "code",
   "execution_count": 6,
   "metadata": {},
   "outputs": [],
   "source": [
    "merged_inner = pd.merge(left=transactions,right=userlogs, left_on='msno', right_on='msno')"
   ]
  },
  {
   "cell_type": "code",
   "execution_count": 7,
   "metadata": {},
   "outputs": [
    {
     "name": "stdout",
     "output_type": "stream",
     "text": [
      "**********Shape of Data**********\n",
      "(243671636, 17)\n",
      "***********Data Types************\n",
      "msno                       object\n",
      "payment_method_id           int64\n",
      "payment_plan_days           int64\n",
      "plan_list_price             int64\n",
      "actual_amount_paid          int64\n",
      "is_auto_renew               int64\n",
      "transaction_date            int64\n",
      "membership_expire_date      int64\n",
      "is_cancel                   int64\n",
      "date                        int64\n",
      "num_25                      int64\n",
      "num_50                      int64\n",
      "num_75                      int64\n",
      "num_985                     int64\n",
      "num_100                     int64\n",
      "num_unq                     int64\n",
      "total_secs                float64\n",
      "dtype: object\n"
     ]
    }
   ],
   "source": [
    "print(\"**********Shape of Data**********\")\n",
    "print(merged_inner.shape)\n",
    "print(\"***********Data Types************\")\n",
    "print(merged_inner.dtypes)"
   ]
  },
  {
   "cell_type": "code",
   "execution_count": 8,
   "metadata": {},
   "outputs": [],
   "source": [
    "# Select rows 10000000 \n",
    "down = merged_inner[0:10000000]"
   ]
  },
  {
   "cell_type": "code",
   "execution_count": 9,
   "metadata": {},
   "outputs": [
    {
     "name": "stdout",
     "output_type": "stream",
     "text": [
      "*********Missing values**********\n",
      "msno                      0\n",
      "payment_method_id         0\n",
      "payment_plan_days         0\n",
      "plan_list_price           0\n",
      "actual_amount_paid        0\n",
      "is_auto_renew             0\n",
      "transaction_date          0\n",
      "membership_expire_date    0\n",
      "is_cancel                 0\n",
      "date                      0\n",
      "num_25                    0\n",
      "num_50                    0\n",
      "num_75                    0\n",
      "num_985                   0\n",
      "num_100                   0\n",
      "num_unq                   0\n",
      "total_secs                0\n",
      "dtype: int64\n",
      "*********Null values*************\n",
      "msno                      0\n",
      "payment_method_id         0\n",
      "payment_plan_days         0\n",
      "plan_list_price           0\n",
      "actual_amount_paid        0\n",
      "is_auto_renew             0\n",
      "transaction_date          0\n",
      "membership_expire_date    0\n",
      "is_cancel                 0\n",
      "date                      0\n",
      "num_25                    0\n",
      "num_50                    0\n",
      "num_75                    0\n",
      "num_985                   0\n",
      "num_100                   0\n",
      "num_unq                   0\n",
      "total_secs                0\n",
      "dtype: int64\n"
     ]
    }
   ],
   "source": [
    "print(\"*********Missing values**********\")\n",
    "print(down.isnull().sum())\n",
    "print(\"*********Null values*************\")\n",
    "print(down.isna().sum())"
   ]
  },
  {
   "cell_type": "code",
   "execution_count": 10,
   "metadata": {},
   "outputs": [
    {
     "data": {
      "text/plain": [
       "1    8964120\n",
       "0    1035880\n",
       "Name: is_auto_renew, dtype: int64"
      ]
     },
     "execution_count": 10,
     "metadata": {},
     "output_type": "execute_result"
    }
   ],
   "source": [
    "down.is_auto_renew.value_counts(dropna = False)"
   ]
  },
  {
   "cell_type": "code",
   "execution_count": 75,
   "metadata": {},
   "outputs": [
    {
     "data": {
      "text/html": [
       "<div>\n",
       "<style scoped>\n",
       "    .dataframe tbody tr th:only-of-type {\n",
       "        vertical-align: middle;\n",
       "    }\n",
       "\n",
       "    .dataframe tbody tr th {\n",
       "        vertical-align: top;\n",
       "    }\n",
       "\n",
       "    .dataframe thead th {\n",
       "        text-align: right;\n",
       "    }\n",
       "</style>\n",
       "<table border=\"1\" class=\"dataframe\">\n",
       "  <thead>\n",
       "    <tr style=\"text-align: right;\">\n",
       "      <th></th>\n",
       "      <th>msno</th>\n",
       "      <th>is_churn</th>\n",
       "      <th>city</th>\n",
       "      <th>bd</th>\n",
       "      <th>gender</th>\n",
       "      <th>registered_via</th>\n",
       "      <th>registration_init_time</th>\n",
       "    </tr>\n",
       "  </thead>\n",
       "  <tbody>\n",
       "    <tr>\n",
       "      <td>0</td>\n",
       "      <td>waLDQMmcOu2jLDaV1ddDkgCrB/jl6sD66Xzs0Vqax1Y=</td>\n",
       "      <td>1</td>\n",
       "      <td>18.0</td>\n",
       "      <td>36.0</td>\n",
       "      <td>female</td>\n",
       "      <td>9.0</td>\n",
       "      <td>20050406.0</td>\n",
       "    </tr>\n",
       "    <tr>\n",
       "      <td>1</td>\n",
       "      <td>QA7uiXy8vIbUSPOkCf9RwQ3FsT8jVq2OxDr8zqa7bRQ=</td>\n",
       "      <td>1</td>\n",
       "      <td>10.0</td>\n",
       "      <td>38.0</td>\n",
       "      <td>male</td>\n",
       "      <td>9.0</td>\n",
       "      <td>20050407.0</td>\n",
       "    </tr>\n",
       "    <tr>\n",
       "      <td>2</td>\n",
       "      <td>fGwBva6hikQmTJzrbz/2Ezjm5Cth5jZUNvXigKK2AFA=</td>\n",
       "      <td>1</td>\n",
       "      <td>11.0</td>\n",
       "      <td>27.0</td>\n",
       "      <td>female</td>\n",
       "      <td>9.0</td>\n",
       "      <td>20051016.0</td>\n",
       "    </tr>\n",
       "    <tr>\n",
       "      <td>3</td>\n",
       "      <td>mT5V8rEpa+8wuqi6x0DoVd3H5icMKkE9Prt49UlmK+4=</td>\n",
       "      <td>1</td>\n",
       "      <td>13.0</td>\n",
       "      <td>23.0</td>\n",
       "      <td>female</td>\n",
       "      <td>9.0</td>\n",
       "      <td>20051102.0</td>\n",
       "    </tr>\n",
       "    <tr>\n",
       "      <td>4</td>\n",
       "      <td>XaPhtGLk/5UvvOYHcONTwsnH97P4eGECeq+BARGItRw=</td>\n",
       "      <td>1</td>\n",
       "      <td>3.0</td>\n",
       "      <td>27.0</td>\n",
       "      <td>male</td>\n",
       "      <td>9.0</td>\n",
       "      <td>20051228.0</td>\n",
       "    </tr>\n",
       "  </tbody>\n",
       "</table>\n",
       "</div>"
      ],
      "text/plain": [
       "                                           msno  is_churn  city    bd  gender  \\\n",
       "0  waLDQMmcOu2jLDaV1ddDkgCrB/jl6sD66Xzs0Vqax1Y=         1  18.0  36.0  female   \n",
       "1  QA7uiXy8vIbUSPOkCf9RwQ3FsT8jVq2OxDr8zqa7bRQ=         1  10.0  38.0    male   \n",
       "2  fGwBva6hikQmTJzrbz/2Ezjm5Cth5jZUNvXigKK2AFA=         1  11.0  27.0  female   \n",
       "3  mT5V8rEpa+8wuqi6x0DoVd3H5icMKkE9Prt49UlmK+4=         1  13.0  23.0  female   \n",
       "4  XaPhtGLk/5UvvOYHcONTwsnH97P4eGECeq+BARGItRw=         1   3.0  27.0    male   \n",
       "\n",
       "   registered_via  registration_init_time  \n",
       "0             9.0              20050406.0  \n",
       "1             9.0              20050407.0  \n",
       "2             9.0              20051016.0  \n",
       "3             9.0              20051102.0  \n",
       "4             9.0              20051228.0  "
      ]
     },
     "execution_count": 75,
     "metadata": {},
     "output_type": "execute_result"
    }
   ],
   "source": [
    "training = pd.merge(left = train,right = members,how = 'left',on=['msno'])\n",
    "training.head()"
   ]
  },
  {
   "cell_type": "code",
   "execution_count": 76,
   "metadata": {},
   "outputs": [
    {
     "name": "stdout",
     "output_type": "stream",
     "text": [
      "(992931, 7)\n"
     ]
    }
   ],
   "source": [
    "print(training.shape)"
   ]
  },
  {
   "cell_type": "code",
   "execution_count": 77,
   "metadata": {},
   "outputs": [
    {
     "name": "stdout",
     "output_type": "stream",
     "text": [
      "<class 'pandas.core.frame.DataFrame'>\n",
      "Int64Index: 992931 entries, 0 to 992930\n",
      "Data columns (total 7 columns):\n",
      "msno                      992931 non-null object\n",
      "is_churn                  992931 non-null int64\n",
      "city                      992931 non-null object\n",
      "bd                        877161 non-null float64\n",
      "gender                    992931 non-null object\n",
      "registered_via            992931 non-null object\n",
      "registration_init_time    877161 non-null float64\n",
      "dtypes: float64(2), int64(1), object(4)\n",
      "memory usage: 60.6+ MB\n"
     ]
    }
   ],
   "source": [
    "#Changing the format of city and registered_via( except missing values) from float to int and changing blank values with NAN( for city, registered_via and gender)\n",
    "\n",
    "training['city'] = training.city.apply(lambda x: int(x) if pd.notnull(x) else \"NAN\")\n",
    "training['registered_via'] = training.registered_via.apply(lambda x: int(x) if pd.notnull(x) else \"NAN\")\n",
    "training['gender']=training['gender'].fillna(\"NAN\")\n",
    "training.info()"
   ]
  },
  {
   "cell_type": "code",
   "execution_count": 79,
   "metadata": {},
   "outputs": [
    {
     "data": {
      "image/png": "[encoded data removed]",
      "text/plain": [
       "<Figure size 864x864 with 1 Axes>"
      ]
     },
     "metadata": {
      "needs_background": "light"
     },
     "output_type": "display_data"
    },
    {
     "name": "stdout",
     "output_type": "stream",
     "text": [
      "City Count [(1, 455389), ('NAN', 115770), (13, 98281), (5, 71299), (4, 47945), (15, 43356), (22, 42129), (6, 26022), (14, 20167), (12, 11554), (9, 9558), (11, 9036), (18, 7842), (8, 7690), (10, 6533), (17, 5546), (21, 5286), (3, 5089), (7, 2666), (16, 956), (20, 677), (19, 140)]\n"
     ]
    }
   ],
   "source": [
    "# City count\n",
    "plt.figure(figsize=(12,12))\n",
    "plt.subplot(411)\n",
    "city_order = training['city'].unique()\n",
    "city_order=sorted(city_order, key=lambda x: float(x))\n",
    "sns.countplot(x=\"city\", data=training , order = city_order)\n",
    "plt.ylabel('Count', fontsize=12)\n",
    "plt.xlabel('City', fontsize=12)\n",
    "plt.xticks(rotation='vertical')\n",
    "plt.title(\"Frequency of City Count\", fontsize=12)\n",
    "plt.show()\n",
    "city_count = Counter(training['city']).most_common()\n",
    "print(\"City Count \" +str(city_count))"
   ]
  },
  {
   "cell_type": "code",
   "execution_count": 80,
   "metadata": {},
   "outputs": [
    {
     "data": {
      "image/png": "[encoded data removed]",
      "text/plain": [
       "<Figure size 864x864 with 1 Axes>"
      ]
     },
     "metadata": {
      "needs_background": "light"
     },
     "output_type": "display_data"
    },
    {
     "name": "stdout",
     "output_type": "stream",
     "text": [
      "Registered Via Count [(7, 482726), (9, 236620), ('NAN', 115770), (3, 105445), (4, 49283), (13, 3087)]\n"
     ]
    }
   ],
   "source": [
    "#Registered Via Count\n",
    "plt.figure(figsize=(12,12))\n",
    "plt.subplot(412)\n",
    "R_V_order = training['registered_via'].unique()\n",
    "R_V_order = sorted(R_V_order, key=lambda x: str(x))\n",
    "R_V_order = sorted(R_V_order, key=lambda x: float(x))\n",
    "#above repetion of commands are very silly, but this was the only way I was able to diplay what I wanted\n",
    "sns.countplot(x=\"registered_via\", data=training,order = R_V_order)\n",
    "plt.ylabel('Count', fontsize=12)\n",
    "plt.xlabel('Registered Via', fontsize=12)\n",
    "plt.xticks(rotation='vertical')\n",
    "plt.title(\"Frequency of Registered Via Count\", fontsize=12)\n",
    "plt.show()\n",
    "RV_count = Counter(training['registered_via']).most_common()\n",
    "print(\"Registered Via Count \" +str(RV_count))"
   ]
  },
  {
   "cell_type": "code",
   "execution_count": 81,
   "metadata": {},
   "outputs": [
    {
     "data": {
      "image/png": "[encoded data removed]",
      "text/plain": [
       "<Figure size 864x864 with 1 Axes>"
      ]
     },
     "metadata": {
      "needs_background": "light"
     },
     "output_type": "display_data"
    },
    {
     "name": "stdout",
     "output_type": "stream",
     "text": [
      "Gender Count [('NAN', 601239), ('male', 206284), ('female', 185408)]\n"
     ]
    }
   ],
   "source": [
    "#Gender count\n",
    "plt.figure(figsize=(12,12))\n",
    "plt.subplot(413)\n",
    "sns.countplot(x=\"gender\", data=training)\n",
    "plt.ylabel('Count', fontsize=12)\n",
    "plt.xlabel('Gender', fontsize=12)\n",
    "plt.xticks(rotation='vertical')\n",
    "plt.title(\"Frequency of Gender Count\", fontsize=12)\n",
    "plt.show()\n",
    "gender_count = Counter(training['gender']).most_common()\n",
    "print(\"Gender Count \" +str(gender_count))\n"
   ]
  },
  {
   "cell_type": "code",
   "execution_count": 82,
   "metadata": {},
   "outputs": [
    {
     "data": {
      "image/png": "[encoded data removed]",
      "text/plain": [
       "<Figure size 864x864 with 1 Axes>"
      ]
     },
     "metadata": {
      "needs_background": "light"
     },
     "output_type": "display_data"
    },
    {
     "name": "stdout",
     "output_type": "stream",
     "text": [
      "Yearly Count [(2016, 206892), (2015, 162008), (2013, 117059), ('NAN', 115770), (2014, 91680), (2012, 77280), (2011, 63379), (2010, 39906), (2007, 26355), (2006, 18193), (2008, 17725), (2017, 16691), (2009, 15804), (2005, 15759), (2004, 8430)]\n"
     ]
    }
   ],
   "source": [
    "#registration_init_time yearly trend\n",
    "training['registration_init_time_year'] = pd.DatetimeIndex(training['registration_init_time']).year\n",
    "training['registration_init_time_year'] = training.registration_init_time_year.apply(lambda x: int(x) if pd.notnull(x) else \"NAN\" )\n",
    "year_count=training['registration_init_time_year'].value_counts()\n",
    "#print(year_count)\n",
    "plt.figure(figsize=(12,12))\n",
    "plt.subplot(311)\n",
    "year_order = training['registration_init_time_year'].unique()\n",
    "year_order=sorted(year_order, key=lambda x: str(x))\n",
    "year_order = sorted(year_order, key=lambda x: float(x))\n",
    "sns.barplot(year_count.index, year_count.values,order=year_order)\n",
    "plt.ylabel('Count', fontsize=12)\n",
    "plt.xlabel('Year', fontsize=12)\n",
    "plt.xticks(rotation='vertical')\n",
    "plt.title(\"Yearly Trend of registration_init_time\", fontsize=12)\n",
    "plt.show()\n",
    "year_count_2 = Counter(training['registration_init_time_year']).most_common()\n",
    "print(\"Yearly Count \" +str(year_count_2))"
   ]
  },
  {
   "cell_type": "code",
   "execution_count": 83,
   "metadata": {},
   "outputs": [
    {
     "data": {
      "image/png": "[encoded data removed]",
      "text/plain": [
       "<Figure size 864x864 with 1 Axes>"
      ]
     },
     "metadata": {
      "needs_background": "light"
     },
     "output_type": "display_data"
    },
    {
     "name": "stdout",
     "output_type": "stream",
     "text": [
      "Monthly Count [('NAN', 115770), (1, 93707), (12, 84608), (10, 83335), (11, 81403), (8, 78424), (7, 76490), (2, 72651), (9, 70357), (3, 67086), (6, 60608), (5, 57224), (4, 51268)]\n"
     ]
    }
   ],
   "source": [
    "#registration_init_time monthly trend\n",
    "training['registration_init_time_month'] = pd.DatetimeIndex(training['registration_init_time']).month\n",
    "training['registration_init_time_month'] = training.registration_init_time_month.apply(lambda x: int(x) if pd.notnull(x) else \"NAN\" )\n",
    "month_count=training['registration_init_time_month'].value_counts()\n",
    "plt.figure(figsize=(12,12))\n",
    "plt.subplot(312)\n",
    "month_order = training['registration_init_time_month'].unique()\n",
    "month_order = sorted(month_order, key=lambda x: str(x))\n",
    "month_order = sorted(month_order, key=lambda x: float(x))\n",
    "sns.barplot(month_count.index, month_count.values,order=month_order)\n",
    "plt.ylabel('Count', fontsize=12)\n",
    "plt.xlabel('Month', fontsize=12)\n",
    "plt.xticks(rotation='vertical')\n",
    "plt.title(\"Monthly Trend of registration_init_time\", fontsize=12)\n",
    "plt.show()\n",
    "month_count_2 = Counter(training['registration_init_time_month']).most_common()\n",
    "print(\"Monthly Count \" +str(month_count_2))"
   ]
  },
  {
   "cell_type": "code",
   "execution_count": 84,
   "metadata": {},
   "outputs": [
    {
     "data": {
      "image/png": "[encoded data removed]",
      "text/plain": [
       "<Figure size 864x864 with 1 Axes>"
      ]
     },
     "metadata": {
      "needs_background": "light"
     },
     "output_type": "display_data"
    },
    {
     "name": "stdout",
     "output_type": "stream",
     "text": [
      "Day-wise Count [('Saturday', 141948), ('Friday', 126268), ('Sunday', 124120), ('Monday', 122189), ('Tuesday', 121536), ('Thursday', 120794), ('Wednesday', 120306), ('NAN', 115770)]\n"
     ]
    }
   ],
   "source": [
    "#registration_init_time day wise trend\n",
    "training['registration_init_time_weekday'] = pd.DatetimeIndex(training['registration_init_time']).weekday_name\n",
    "training['registration_init_time_weekday'] = training.registration_init_time_weekday.apply(lambda x: str(x) if pd.notnull(x) else \"NAN\" )\n",
    "day_count=training['registration_init_time_weekday'].value_counts()\n",
    "plt.figure(figsize=(12,12))\n",
    "plt.subplot(313)\n",
    "#day_order = training['registration_init_time_day'].unique()\n",
    "day_order = ['Monday','Tuesday','Wednesday','Thursday','Friday','Saturday','Sunday','NAN']\n",
    "sns.barplot(day_count.index, day_count.values,order=day_order)\n",
    "plt.ylabel('Count', fontsize=12)\n",
    "plt.xlabel('Day', fontsize=12)\n",
    "plt.xticks(rotation='vertical')\n",
    "plt.title(\"Day-wise Trend of registration_init_time\", fontsize=12)\n",
    "plt.show()\n",
    "day_count_2 = Counter(training['registration_init_time_weekday']).most_common()\n",
    "print(\"Day-wise Count \" +str(day_count_2))"
   ]
  },
  {
   "cell_type": "code",
   "execution_count": 91,
   "metadata": {},
   "outputs": [
    {
     "data": {
      "text/plain": [
       "(391692, 7)"
      ]
     },
     "execution_count": 91,
     "metadata": {},
     "output_type": "execute_result"
    }
   ],
   "source": [
    "training = pd.merge(left = train,right = members,how = 'left',on=['msno'])\n",
    "training_na = training.dropna()\n",
    "training_na.shape"
   ]
  },
  {
   "cell_type": "code",
   "execution_count": 92,
   "metadata": {},
   "outputs": [
    {
     "data": {
      "text/html": [
       "<div>\n",
       "<style scoped>\n",
       "    .dataframe tbody tr th:only-of-type {\n",
       "        vertical-align: middle;\n",
       "    }\n",
       "\n",
       "    .dataframe tbody tr th {\n",
       "        vertical-align: top;\n",
       "    }\n",
       "\n",
       "    .dataframe thead th {\n",
       "        text-align: right;\n",
       "    }\n",
       "</style>\n",
       "<table border=\"1\" class=\"dataframe\">\n",
       "  <thead>\n",
       "    <tr style=\"text-align: right;\">\n",
       "      <th>is_churn</th>\n",
       "      <th>0</th>\n",
       "      <th>1</th>\n",
       "      <th>Ratio</th>\n",
       "    </tr>\n",
       "    <tr>\n",
       "      <th>gender</th>\n",
       "      <th></th>\n",
       "      <th></th>\n",
       "      <th></th>\n",
       "    </tr>\n",
       "  </thead>\n",
       "  <tbody>\n",
       "    <tr>\n",
       "      <td>female</td>\n",
       "      <td>169395</td>\n",
       "      <td>16013</td>\n",
       "      <td>0.094531</td>\n",
       "    </tr>\n",
       "    <tr>\n",
       "      <td>male</td>\n",
       "      <td>188039</td>\n",
       "      <td>18245</td>\n",
       "      <td>0.097028</td>\n",
       "    </tr>\n",
       "  </tbody>\n",
       "</table>\n",
       "</div>"
      ],
      "text/plain": [
       "is_churn       0      1     Ratio\n",
       "gender                           \n",
       "female    169395  16013  0.094531\n",
       "male      188039  18245  0.097028"
      ]
     },
     "execution_count": 92,
     "metadata": {},
     "output_type": "execute_result"
    },
    {
     "data": {
      "image/png": "[encoded data removed]",
      "text/plain": [
       "<Figure size 432x288 with 1 Axes>"
      ]
     },
     "metadata": {
      "needs_background": "light"
     },
     "output_type": "display_data"
    }
   ],
   "source": [
    "#Gender\n",
    "gender_crosstab=pd.crosstab(training_na['gender'],training_na['is_churn'])\n",
    "gender_crosstab.plot(kind='bar', stacked=True, grid=True)\n",
    "gender_crosstab[\"Ratio\"] =  gender_crosstab[1] / gender_crosstab[0]\n",
    "gender_crosstab"
   ]
  },
  {
   "cell_type": "code",
   "execution_count": 93,
   "metadata": {},
   "outputs": [
    {
     "data": {
      "text/html": [
       "<div>\n",
       "<style scoped>\n",
       "    .dataframe tbody tr th:only-of-type {\n",
       "        vertical-align: middle;\n",
       "    }\n",
       "\n",
       "    .dataframe tbody tr th {\n",
       "        vertical-align: top;\n",
       "    }\n",
       "\n",
       "    .dataframe thead th {\n",
       "        text-align: right;\n",
       "    }\n",
       "</style>\n",
       "<table border=\"1\" class=\"dataframe\">\n",
       "  <thead>\n",
       "    <tr style=\"text-align: right;\">\n",
       "      <th>is_churn</th>\n",
       "      <th>0</th>\n",
       "      <th>1</th>\n",
       "      <th>Ratio</th>\n",
       "    </tr>\n",
       "    <tr>\n",
       "      <th>registered_via</th>\n",
       "      <th></th>\n",
       "      <th></th>\n",
       "      <th></th>\n",
       "    </tr>\n",
       "  </thead>\n",
       "  <tbody>\n",
       "    <tr>\n",
       "      <td>3.0</td>\n",
       "      <td>76962</td>\n",
       "      <td>11131</td>\n",
       "      <td>0.144630</td>\n",
       "    </tr>\n",
       "    <tr>\n",
       "      <td>4.0</td>\n",
       "      <td>21217</td>\n",
       "      <td>4672</td>\n",
       "      <td>0.220201</td>\n",
       "    </tr>\n",
       "    <tr>\n",
       "      <td>7.0</td>\n",
       "      <td>73210</td>\n",
       "      <td>3071</td>\n",
       "      <td>0.041948</td>\n",
       "    </tr>\n",
       "    <tr>\n",
       "      <td>9.0</td>\n",
       "      <td>185799</td>\n",
       "      <td>15366</td>\n",
       "      <td>0.082702</td>\n",
       "    </tr>\n",
       "    <tr>\n",
       "      <td>13.0</td>\n",
       "      <td>246</td>\n",
       "      <td>18</td>\n",
       "      <td>0.073171</td>\n",
       "    </tr>\n",
       "  </tbody>\n",
       "</table>\n",
       "</div>"
      ],
      "text/plain": [
       "is_churn             0      1     Ratio\n",
       "registered_via                         \n",
       "3.0              76962  11131  0.144630\n",
       "4.0              21217   4672  0.220201\n",
       "7.0              73210   3071  0.041948\n",
       "9.0             185799  15366  0.082702\n",
       "13.0               246     18  0.073171"
      ]
     },
     "execution_count": 93,
     "metadata": {},
     "output_type": "execute_result"
    },
    {
     "data": {
      "image/png": "[encoded data removed]",
      "text/plain": [
       "<Figure size 432x288 with 1 Axes>"
      ]
     },
     "metadata": {
      "needs_background": "light"
     },
     "output_type": "display_data"
    }
   ],
   "source": [
    "#Registered Via\n",
    "registered_via_crosstab=pd.crosstab(training_na['registered_via'],training_na['is_churn'])\n",
    "registered_via_crosstab.plot(kind='bar', stacked=True, grid=True)\n",
    "registered_via_crosstab[\"Ratio\"] =  registered_via_crosstab[1] / registered_via_crosstab[0]\n",
    "registered_via_crosstab\n"
   ]
  },
  {
   "cell_type": "code",
   "execution_count": 94,
   "metadata": {},
   "outputs": [
    {
     "data": {
      "text/html": [
       "<div>\n",
       "<style scoped>\n",
       "    .dataframe tbody tr th:only-of-type {\n",
       "        vertical-align: middle;\n",
       "    }\n",
       "\n",
       "    .dataframe tbody tr th {\n",
       "        vertical-align: top;\n",
       "    }\n",
       "\n",
       "    .dataframe thead th {\n",
       "        text-align: right;\n",
       "    }\n",
       "</style>\n",
       "<table border=\"1\" class=\"dataframe\">\n",
       "  <thead>\n",
       "    <tr style=\"text-align: right;\">\n",
       "      <th>is_churn</th>\n",
       "      <th>0</th>\n",
       "      <th>1</th>\n",
       "      <th>Ratio</th>\n",
       "    </tr>\n",
       "    <tr>\n",
       "      <th>city</th>\n",
       "      <th></th>\n",
       "      <th></th>\n",
       "      <th></th>\n",
       "    </tr>\n",
       "  </thead>\n",
       "  <tbody>\n",
       "    <tr>\n",
       "      <td>1.0</td>\n",
       "      <td>11357</td>\n",
       "      <td>2162</td>\n",
       "      <td>0.190367</td>\n",
       "    </tr>\n",
       "    <tr>\n",
       "      <td>3.0</td>\n",
       "      <td>4219</td>\n",
       "      <td>376</td>\n",
       "      <td>0.089121</td>\n",
       "    </tr>\n",
       "    <tr>\n",
       "      <td>4.0</td>\n",
       "      <td>39387</td>\n",
       "      <td>3866</td>\n",
       "      <td>0.098154</td>\n",
       "    </tr>\n",
       "    <tr>\n",
       "      <td>5.0</td>\n",
       "      <td>58356</td>\n",
       "      <td>5668</td>\n",
       "      <td>0.097128</td>\n",
       "    </tr>\n",
       "    <tr>\n",
       "      <td>6.0</td>\n",
       "      <td>21426</td>\n",
       "      <td>2037</td>\n",
       "      <td>0.095071</td>\n",
       "    </tr>\n",
       "    <tr>\n",
       "      <td>7.0</td>\n",
       "      <td>2228</td>\n",
       "      <td>163</td>\n",
       "      <td>0.073160</td>\n",
       "    </tr>\n",
       "    <tr>\n",
       "      <td>8.0</td>\n",
       "      <td>6315</td>\n",
       "      <td>685</td>\n",
       "      <td>0.108472</td>\n",
       "    </tr>\n",
       "    <tr>\n",
       "      <td>9.0</td>\n",
       "      <td>7788</td>\n",
       "      <td>699</td>\n",
       "      <td>0.089753</td>\n",
       "    </tr>\n",
       "    <tr>\n",
       "      <td>10.0</td>\n",
       "      <td>5390</td>\n",
       "      <td>540</td>\n",
       "      <td>0.100186</td>\n",
       "    </tr>\n",
       "    <tr>\n",
       "      <td>11.0</td>\n",
       "      <td>7387</td>\n",
       "      <td>674</td>\n",
       "      <td>0.091241</td>\n",
       "    </tr>\n",
       "    <tr>\n",
       "      <td>12.0</td>\n",
       "      <td>9484</td>\n",
       "      <td>1027</td>\n",
       "      <td>0.108288</td>\n",
       "    </tr>\n",
       "    <tr>\n",
       "      <td>13.0</td>\n",
       "      <td>80101</td>\n",
       "      <td>6866</td>\n",
       "      <td>0.085717</td>\n",
       "    </tr>\n",
       "    <tr>\n",
       "      <td>14.0</td>\n",
       "      <td>16826</td>\n",
       "      <td>1424</td>\n",
       "      <td>0.084631</td>\n",
       "    </tr>\n",
       "    <tr>\n",
       "      <td>15.0</td>\n",
       "      <td>35527</td>\n",
       "      <td>3290</td>\n",
       "      <td>0.092606</td>\n",
       "    </tr>\n",
       "    <tr>\n",
       "      <td>16.0</td>\n",
       "      <td>821</td>\n",
       "      <td>75</td>\n",
       "      <td>0.091352</td>\n",
       "    </tr>\n",
       "    <tr>\n",
       "      <td>17.0</td>\n",
       "      <td>4682</td>\n",
       "      <td>374</td>\n",
       "      <td>0.079880</td>\n",
       "    </tr>\n",
       "    <tr>\n",
       "      <td>18.0</td>\n",
       "      <td>6483</td>\n",
       "      <td>588</td>\n",
       "      <td>0.090699</td>\n",
       "    </tr>\n",
       "    <tr>\n",
       "      <td>19.0</td>\n",
       "      <td>122</td>\n",
       "      <td>9</td>\n",
       "      <td>0.073770</td>\n",
       "    </tr>\n",
       "    <tr>\n",
       "      <td>20.0</td>\n",
       "      <td>588</td>\n",
       "      <td>49</td>\n",
       "      <td>0.083333</td>\n",
       "    </tr>\n",
       "    <tr>\n",
       "      <td>21.0</td>\n",
       "      <td>4304</td>\n",
       "      <td>486</td>\n",
       "      <td>0.112918</td>\n",
       "    </tr>\n",
       "    <tr>\n",
       "      <td>22.0</td>\n",
       "      <td>34643</td>\n",
       "      <td>3200</td>\n",
       "      <td>0.092371</td>\n",
       "    </tr>\n",
       "  </tbody>\n",
       "</table>\n",
       "</div>"
      ],
      "text/plain": [
       "is_churn      0     1     Ratio\n",
       "city                           \n",
       "1.0       11357  2162  0.190367\n",
       "3.0        4219   376  0.089121\n",
       "4.0       39387  3866  0.098154\n",
       "5.0       58356  5668  0.097128\n",
       "6.0       21426  2037  0.095071\n",
       "7.0        2228   163  0.073160\n",
       "8.0        6315   685  0.108472\n",
       "9.0        7788   699  0.089753\n",
       "10.0       5390   540  0.100186\n",
       "11.0       7387   674  0.091241\n",
       "12.0       9484  1027  0.108288\n",
       "13.0      80101  6866  0.085717\n",
       "14.0      16826  1424  0.084631\n",
       "15.0      35527  3290  0.092606\n",
       "16.0        821    75  0.091352\n",
       "17.0       4682   374  0.079880\n",
       "18.0       6483   588  0.090699\n",
       "19.0        122     9  0.073770\n",
       "20.0        588    49  0.083333\n",
       "21.0       4304   486  0.112918\n",
       "22.0      34643  3200  0.092371"
      ]
     },
     "execution_count": 94,
     "metadata": {},
     "output_type": "execute_result"
    },
    {
     "data": {
      "image/png": "[encoded data removed]",
      "text/plain": [
       "<Figure size 432x288 with 1 Axes>"
      ]
     },
     "metadata": {
      "needs_background": "light"
     },
     "output_type": "display_data"
    }
   ],
   "source": [
    "#city\n",
    "city_crosstab=pd.crosstab(training_na['city'],training_na['is_churn'])\n",
    "city_crosstab.plot(kind='bar', stacked=True, grid=True)\n",
    "city_crosstab[\"Ratio\"] =  city_crosstab[1] / city_crosstab[0]\n",
    "city_crosstab"
   ]
  },
  {
   "cell_type": "code",
   "execution_count": 95,
   "metadata": {},
   "outputs": [
    {
     "data": {
      "image/png": "[encoded data removed]",
      "text/plain": [
       "<Figure size 1296x432 with 1 Axes>"
      ]
     },
     "metadata": {
      "needs_background": "light"
     },
     "output_type": "display_data"
    },
    {
     "name": "stdout",
     "output_type": "stream",
     "text": [
      "payment_method_id Count [(41, 11526454), (40, 2225283), (38, 1703590), (39, 1466655), (37, 1007689), (36, 855115), (34, 731539), (35, 541399), (33, 411164), (31, 252342), (30, 160957), (32, 146481), (29, 113885), (28, 95733), (27, 62525), (23, 42386), (19, 32073), (20, 28278), (21, 22883), (22, 20130), (24, 16196), (18, 16177), (25, 13780), (14, 13621), (16, 11064), (17, 7437), (13, 6571), (26, 4591), (12, 3834), (11, 2129), (15, 1479), (10, 1326), (7, 1094), (8, 657), (5, 474), (6, 466), (3, 210), (2, 52), (4, 15), (1, 12)]\n"
     ]
    }
   ],
   "source": [
    "# payment_method_id count in transactions Data Set\n",
    "plt.figure(figsize=(18,6))\n",
    "#plt.subplot(311)\n",
    "sns.countplot(x=\"payment_method_id\", data=transactions)\n",
    "plt.ylabel('Count', fontsize=12)\n",
    "plt.xlabel('payment_method_id', fontsize=12)\n",
    "plt.xticks(rotation='vertical')\n",
    "plt.title(\"Frequency of payment_method_id Count in transactions Data Set\", fontsize=12)\n",
    "plt.show()\n",
    "payment_method_id_count = Counter(transactions['payment_method_id']).most_common()\n",
    "print(\"payment_method_id Count \" +str(payment_method_id_count))"
   ]
  },
  {
   "cell_type": "code",
   "execution_count": 96,
   "metadata": {},
   "outputs": [
    {
     "data": {
      "image/png": "[encoded data removed]",
      "text/plain": [
       "<Figure size 1296x432 with 1 Axes>"
      ]
     },
     "metadata": {
      "needs_background": "light"
     },
     "output_type": "display_data"
    },
    {
     "name": "stdout",
     "output_type": "stream",
     "text": [
      "payment_plan_days Count [(30, 18956290), (0, 870124), (31, 766608), (7, 577639), (195, 110234), (410, 80139), (180, 52272), (10, 38216), (100, 24154), (90, 12310), (395, 10790), (120, 10007), (60, 7167), (14, 6365), (200, 5838), (360, 5486), (1, 4759), (400, 1856), (450, 1271), (240, 1088), (45, 1082), (21, 869), (35, 825), (70, 587), (80, 342), (99, 339), (365, 312), (270, 190), (66, 175), (110, 159), (230, 103), (2, 67), (3, 59), (15, 21), (425, 1), (415, 1), (95, 1)]\n"
     ]
    }
   ],
   "source": [
    "# payment_plan_days count in transactions Data Set\n",
    "plt.figure(figsize=(18,6))\n",
    "sns.countplot(x=\"payment_plan_days\", data=transactions)\n",
    "plt.ylabel('Count', fontsize=12)\n",
    "plt.xlabel('payment_plan_days', fontsize=12)\n",
    "plt.xticks(rotation='vertical')\n",
    "plt.title(\"Frequency of payment_plan_days Count in transactions Data Set\", fontsize=12)\n",
    "plt.show()\n",
    "payment_plan_days_count = Counter(transactions['payment_plan_days']).most_common()\n",
    "print(\"payment_plan_days Count \" +str(payment_plan_days_count))"
   ]
  },
  {
   "cell_type": "code",
   "execution_count": 97,
   "metadata": {},
   "outputs": [
    {
     "data": {
      "image/png": "[encoded data removed]",
      "text/plain": [
       "<Figure size 1296x432 with 1 Axes>"
      ]
     },
     "metadata": {
      "needs_background": "light"
     },
     "output_type": "display_data"
    },
    {
     "name": "stdout",
     "output_type": "stream",
     "text": [
      "plan_list_price Count [(149, 12536656), (99, 4853433), (0, 1498544), (129, 1144459), (180, 682533), (150, 382860), (894, 109879), (100, 80285), (1788, 80066), (536, 43506), (119, 32280), (480, 22977), (1599, 11463), (477, 10847), (35, 7410), (799, 6264), (300, 5828), (120, 5821), (1200, 5486), (298, 5272), (930, 5082), (447, 4348), (134, 3743), (450, 1455), (500, 1185), (50, 1051), (699, 915), (1000, 750), (124, 598), (350, 587), (131, 374), (105, 348), (400, 342), (70, 250), (143, 143), (2000, 118), (1, 113), (1150, 103), (126, 99), (596, 70), (10, 67), (15, 50), (210, 26), (265, 21), (1520, 13), (800, 11), (30, 6), (760, 3), (600, 3), (1825, 2), (44, 1)]\n"
     ]
    }
   ],
   "source": [
    "# plan_list_price count in transactions Data Set\n",
    "plt.figure(figsize=(18,6))\n",
    "sns.countplot(x=\"plan_list_price\", data=transactions)\n",
    "plt.ylabel('Count', fontsize=12)\n",
    "plt.xlabel('plan_list_price', fontsize=12)\n",
    "plt.xticks(rotation='vertical')\n",
    "plt.title(\"Frequency of plan_list_price Count in transactions Data Set\", fontsize=12)\n",
    "plt.show()\n",
    "plan_list_price_count = Counter(transactions['plan_list_price']).most_common()\n",
    "print(\"plan_list_price Count \" +str(plan_list_price_count))"
   ]
  },
  {
   "cell_type": "code",
   "execution_count": 98,
   "metadata": {},
   "outputs": [
    {
     "data": {
      "image/png": "[encoded data removed]",
      "text/plain": [
       "<Figure size 288x288 with 1 Axes>"
      ]
     },
     "metadata": {
      "needs_background": "light"
     },
     "output_type": "display_data"
    },
    {
     "name": "stdout",
     "output_type": "stream",
     "text": [
      "is_auto_renew Count [(1, 18357950), (0, 3189796)]\n"
     ]
    }
   ],
   "source": [
    "# is_auto_renew count in transactions Data Set\n",
    "plt.figure(figsize=(4,4))\n",
    "sns.countplot(x=\"is_auto_renew\", data=transactions)\n",
    "plt.ylabel('Count', fontsize=12)\n",
    "plt.xlabel('is_auto_renew', fontsize=12)\n",
    "plt.xticks(rotation='vertical')\n",
    "plt.title(\"Frequency of is_auto_renew Count in transactions Data Set\", fontsize=6)\n",
    "plt.show()\n",
    "is_auto_renew_count = Counter(transactions['is_auto_renew']).most_common()\n",
    "print(\"is_auto_renew Count \" +str(is_auto_renew_count))"
   ]
  },
  {
   "cell_type": "code",
   "execution_count": 99,
   "metadata": {},
   "outputs": [
    {
     "data": {
      "image/png": "[encoded data removed]",
      "text/plain": [
       "<Figure size 288x288 with 1 Axes>"
      ]
     },
     "metadata": {
      "needs_background": "light"
     },
     "output_type": "display_data"
    },
    {
     "name": "stdout",
     "output_type": "stream",
     "text": [
      "is_cancel Count [(0, 20690895), (1, 856851)]\n"
     ]
    }
   ],
   "source": [
    "# is_cancel count in transactions Data Set\n",
    "plt.figure(figsize=(4,4))\n",
    "sns.countplot(x=\"is_cancel\", data=transactions)\n",
    "plt.ylabel('Count', fontsize=12)\n",
    "plt.xlabel('is_cancel', fontsize=12)\n",
    "plt.xticks(rotation='vertical')\n",
    "plt.title(\"Frequency of is_cancel Count in transactions Data Set\", fontsize=6)\n",
    "plt.show()\n",
    "is_cancel_count = Counter(transactions['is_cancel']).most_common()\n",
    "print(\"is_cancel Count \" +str(is_cancel_count))"
   ]
  },
  {
   "cell_type": "code",
   "execution_count": null,
   "metadata": {},
   "outputs": [],
   "source": []
  }
 ],
 "metadata": {
  "kernelspec": {
   "display_name": "Python 3",
   "language": "python",
   "name": "python3"
  },
  "language_info": {
   "codemirror_mode": {
    "name": "ipython",
    "version": 3
   },
   "file_extension": ".py",
   "mimetype": "text/x-python",
   "name": "python",
   "nbconvert_exporter": "python",
   "pygments_lexer": "ipython3",
   "version": "3.7.4"
  }
 },
 "nbformat": 4,
 "nbformat_minor": 2
}
